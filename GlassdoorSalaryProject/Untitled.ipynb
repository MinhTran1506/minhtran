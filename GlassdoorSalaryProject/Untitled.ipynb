{
 "cells": [
  {
   "cell_type": "code",
   "execution_count": 23,
   "id": "77a125f6",
   "metadata": {},
   "outputs": [],
   "source": [
    "import pandas as pd\n",
    "import numpy as np\n",
    "import seaborn as sns\n",
    "import matplotlib.pyplot as plt"
   ]
  },
  {
   "cell_type": "code",
   "execution_count": 2,
   "id": "9db637e7",
   "metadata": {},
   "outputs": [
    {
     "data": {
      "text/html": [
       "<div>\n",
       "<style scoped>\n",
       "    .dataframe tbody tr th:only-of-type {\n",
       "        vertical-align: middle;\n",
       "    }\n",
       "\n",
       "    .dataframe tbody tr th {\n",
       "        vertical-align: top;\n",
       "    }\n",
       "\n",
       "    .dataframe thead th {\n",
       "        text-align: right;\n",
       "    }\n",
       "</style>\n",
       "<table border=\"1\" class=\"dataframe\">\n",
       "  <thead>\n",
       "    <tr style=\"text-align: right;\">\n",
       "      <th></th>\n",
       "      <th>Job Title</th>\n",
       "      <th>Salary Estimate</th>\n",
       "      <th>Job Description</th>\n",
       "      <th>Company Name</th>\n",
       "      <th>Location</th>\n",
       "      <th>Size</th>\n",
       "      <th>Founded</th>\n",
       "      <th>Sector</th>\n",
       "      <th>Revenue</th>\n",
       "      <th>Industry</th>\n",
       "      <th>Type</th>\n",
       "      <th>Hourly</th>\n",
       "      <th>job_state</th>\n",
       "      <th>Age</th>\n",
       "      <th>python_yn</th>\n",
       "      <th>R_yn</th>\n",
       "      <th>spark_yn</th>\n",
       "      <th>aws_yn</th>\n",
       "      <th>excel</th>\n",
       "    </tr>\n",
       "  </thead>\n",
       "  <tbody>\n",
       "    <tr>\n",
       "      <th>0</th>\n",
       "      <td>Data Scientist</td>\n",
       "      <td>98847.0</td>\n",
       "      <td>First Orion is seeking a talented Data Scienti...</td>\n",
       "      <td>First Orion\\n</td>\n",
       "      <td>North Little Rock, AR</td>\n",
       "      <td>201 to 500 Employees</td>\n",
       "      <td>2008.0</td>\n",
       "      <td>Information Technology</td>\n",
       "      <td>Unknown / Non-Applicable</td>\n",
       "      <td>Enterprise Software &amp; Network Solutions</td>\n",
       "      <td>Company - Private</td>\n",
       "      <td>0</td>\n",
       "      <td>AR</td>\n",
       "      <td>15.0</td>\n",
       "      <td>1</td>\n",
       "      <td>0</td>\n",
       "      <td>1</td>\n",
       "      <td>0</td>\n",
       "      <td>0</td>\n",
       "    </tr>\n",
       "    <tr>\n",
       "      <th>1</th>\n",
       "      <td>Junior Data Scientist</td>\n",
       "      <td>85000.0</td>\n",
       "      <td>Fremont, California\\nType: Full-time\\nMin. Exp...</td>\n",
       "      <td>SoundThinking\\n</td>\n",
       "      <td>Fremont, CA</td>\n",
       "      <td>201 to 500 Employees</td>\n",
       "      <td>1996.0</td>\n",
       "      <td>Information Technology</td>\n",
       "      <td>$25 to $100 million (USD)</td>\n",
       "      <td>Software Development</td>\n",
       "      <td>Company - Public</td>\n",
       "      <td>0</td>\n",
       "      <td>CA</td>\n",
       "      <td>27.0</td>\n",
       "      <td>1</td>\n",
       "      <td>0</td>\n",
       "      <td>0</td>\n",
       "      <td>1</td>\n",
       "      <td>1</td>\n",
       "    </tr>\n",
       "    <tr>\n",
       "      <th>2</th>\n",
       "      <td>College Graduate - Data Science (BS/MS)</td>\n",
       "      <td>132410.0</td>\n",
       "      <td>Job Description\\n\\nIntel is a company of bold ...</td>\n",
       "      <td>INTEL\\n</td>\n",
       "      <td>Santa Clara, CA</td>\n",
       "      <td>10000+ Employees</td>\n",
       "      <td>1968.0</td>\n",
       "      <td>Information Technology</td>\n",
       "      <td>$10+ billion (USD)</td>\n",
       "      <td>Computer Hardware Development</td>\n",
       "      <td>Company - Public</td>\n",
       "      <td>0</td>\n",
       "      <td>CA</td>\n",
       "      <td>55.0</td>\n",
       "      <td>0</td>\n",
       "      <td>0</td>\n",
       "      <td>0</td>\n",
       "      <td>1</td>\n",
       "      <td>1</td>\n",
       "    </tr>\n",
       "    <tr>\n",
       "      <th>3</th>\n",
       "      <td>Sr Data Analyst</td>\n",
       "      <td>84636.0</td>\n",
       "      <td>Introduction\\nDo you want to join an organizat...</td>\n",
       "      <td>HCA Healthcare\\n</td>\n",
       "      <td>Nashville, TN</td>\n",
       "      <td>10000+ Employees</td>\n",
       "      <td>1968.0</td>\n",
       "      <td>Healthcare</td>\n",
       "      <td>$10+ billion (USD)</td>\n",
       "      <td>Health Care Services &amp; Hospitals</td>\n",
       "      <td>Company - Public</td>\n",
       "      <td>0</td>\n",
       "      <td>TN</td>\n",
       "      <td>55.0</td>\n",
       "      <td>0</td>\n",
       "      <td>0</td>\n",
       "      <td>0</td>\n",
       "      <td>1</td>\n",
       "      <td>1</td>\n",
       "    </tr>\n",
       "    <tr>\n",
       "      <th>4</th>\n",
       "      <td>Data Scientist</td>\n",
       "      <td>138198.0</td>\n",
       "      <td>Requisition ID: 377004\\nWork Area: Information...</td>\n",
       "      <td>SAP\\n</td>\n",
       "      <td>Palo Alto, CA</td>\n",
       "      <td>10000+ Employees</td>\n",
       "      <td>1972.0</td>\n",
       "      <td>Information Technology</td>\n",
       "      <td>$10+ billion (USD)</td>\n",
       "      <td>Enterprise Software &amp; Network Solutions</td>\n",
       "      <td>Company - Public</td>\n",
       "      <td>0</td>\n",
       "      <td>CA</td>\n",
       "      <td>51.0</td>\n",
       "      <td>1</td>\n",
       "      <td>0</td>\n",
       "      <td>0</td>\n",
       "      <td>0</td>\n",
       "      <td>1</td>\n",
       "    </tr>\n",
       "  </tbody>\n",
       "</table>\n",
       "</div>"
      ],
      "text/plain": [
       "                                 Job Title  Salary Estimate  \\\n",
       "0                           Data Scientist          98847.0   \n",
       "1                    Junior Data Scientist          85000.0   \n",
       "2  College Graduate - Data Science (BS/MS)         132410.0   \n",
       "3                          Sr Data Analyst          84636.0   \n",
       "4                           Data Scientist         138198.0   \n",
       "\n",
       "                                     Job Description      Company Name  \\\n",
       "0  First Orion is seeking a talented Data Scienti...     First Orion\\n   \n",
       "1  Fremont, California\\nType: Full-time\\nMin. Exp...   SoundThinking\\n   \n",
       "2  Job Description\\n\\nIntel is a company of bold ...           INTEL\\n   \n",
       "3  Introduction\\nDo you want to join an organizat...  HCA Healthcare\\n   \n",
       "4  Requisition ID: 377004\\nWork Area: Information...             SAP\\n   \n",
       "\n",
       "                Location                  Size  Founded  \\\n",
       "0  North Little Rock, AR  201 to 500 Employees   2008.0   \n",
       "1            Fremont, CA  201 to 500 Employees   1996.0   \n",
       "2        Santa Clara, CA      10000+ Employees   1968.0   \n",
       "3          Nashville, TN      10000+ Employees   1968.0   \n",
       "4          Palo Alto, CA      10000+ Employees   1972.0   \n",
       "\n",
       "                   Sector                    Revenue  \\\n",
       "0  Information Technology   Unknown / Non-Applicable   \n",
       "1  Information Technology  $25 to $100 million (USD)   \n",
       "2  Information Technology         $10+ billion (USD)   \n",
       "3              Healthcare         $10+ billion (USD)   \n",
       "4  Information Technology         $10+ billion (USD)   \n",
       "\n",
       "                                  Industry               Type  Hourly  \\\n",
       "0  Enterprise Software & Network Solutions  Company - Private       0   \n",
       "1                     Software Development   Company - Public       0   \n",
       "2            Computer Hardware Development   Company - Public       0   \n",
       "3         Health Care Services & Hospitals   Company - Public       0   \n",
       "4  Enterprise Software & Network Solutions   Company - Public       0   \n",
       "\n",
       "  job_state   Age  python_yn  R_yn  spark_yn  aws_yn  excel  \n",
       "0        AR  15.0          1     0         1       0      0  \n",
       "1        CA  27.0          1     0         0       1      1  \n",
       "2        CA  55.0          0     0         0       1      1  \n",
       "3        TN  55.0          0     0         0       1      1  \n",
       "4        CA  51.0          1     0         0       0      1  "
      ]
     },
     "execution_count": 2,
     "metadata": {},
     "output_type": "execute_result"
    }
   ],
   "source": [
    "df = pd.read_csv('Clean_DataScientistSalary.csv')\n",
    "df.head()"
   ]
  },
  {
   "cell_type": "code",
   "execution_count": 3,
   "id": "7a43f226",
   "metadata": {},
   "outputs": [],
   "source": [
    "def title_simplifier(title):\n",
    "    if 'data scientist' in title.lower():\n",
    "        return 'data scientist'\n",
    "    elif 'data engineer' in title.lower():\n",
    "        return 'data engineer'\n",
    "    elif 'analyst' in title.lower():\n",
    "        return 'analyst'\n",
    "    elif 'machine learning' in title.lower():\n",
    "        return 'mle'\n",
    "    elif 'manager' in title.lower():\n",
    "        return 'manager'\n",
    "    elif 'director' in title.lower():\n",
    "        return 'director'\n",
    "    else:\n",
    "        return 'na'\n",
    "    \n",
    "def seniority(title):\n",
    "    if 'sr' or 'senior' or 'lead' or 'principal' in title.lower():\n",
    "        return 'senior'\n",
    "    elif 'jr' or '.jr' or 'junior' in title.lower():\n",
    "        return 'jr'\n",
    "    else:\n",
    "        return 'na'\n",
    "    "
   ]
  },
  {
   "cell_type": "code",
   "execution_count": 5,
   "id": "e6cc1dc1",
   "metadata": {},
   "outputs": [],
   "source": [
    "df['job_simp'] = df['Job Title'].apply(title_simplifier)"
   ]
  },
  {
   "cell_type": "code",
   "execution_count": 6,
   "id": "0c76a035",
   "metadata": {},
   "outputs": [
    {
     "data": {
      "text/plain": [
       "data scientist    60\n",
       "na                14\n",
       "mle                9\n",
       "analyst            5\n",
       "Name: job_simp, dtype: int64"
      ]
     },
     "execution_count": 6,
     "metadata": {},
     "output_type": "execute_result"
    }
   ],
   "source": [
    "df.job_simp.value_counts()"
   ]
  },
  {
   "cell_type": "code",
   "execution_count": 7,
   "id": "30420201",
   "metadata": {},
   "outputs": [],
   "source": [
    "df['seniority'] = df['Job Title'].apply(seniority)"
   ]
  },
  {
   "cell_type": "code",
   "execution_count": 8,
   "id": "532d84c6",
   "metadata": {},
   "outputs": [
    {
     "data": {
      "text/plain": [
       "senior    88\n",
       "Name: seniority, dtype: int64"
      ]
     },
     "execution_count": 8,
     "metadata": {},
     "output_type": "execute_result"
    }
   ],
   "source": [
    "df.seniority.value_counts()"
   ]
  },
  {
   "cell_type": "code",
   "execution_count": 10,
   "id": "856ca46b",
   "metadata": {},
   "outputs": [
    {
     "data": {
      "text/plain": [
       "CA        24\n",
       "Remote     9\n",
       "NY         9\n",
       "MA         6\n",
       "TX         4\n",
       "MD         3\n",
       "IL         3\n",
       "OH         3\n",
       "OR         3\n",
       "PA         3\n",
       "DC         2\n",
       "CO         2\n",
       "NJ         2\n",
       "AR         2\n",
       "WA         2\n",
       "AZ         2\n",
       "TN         2\n",
       "AL         1\n",
       "GA         1\n",
       "FL         1\n",
       "SC         1\n",
       "MI         1\n",
       "IN         1\n",
       "VA         1\n",
       "Name: job_state, dtype: int64"
      ]
     },
     "execution_count": 10,
     "metadata": {},
     "output_type": "execute_result"
    }
   ],
   "source": [
    "df['job_state'] = df['job_state'].apply(lambda x: x.strip() if x.strip().lower() != 'los angeles' else 'CA')\n",
    "df.job_state.value_counts()"
   ]
  },
  {
   "cell_type": "code",
   "execution_count": 11,
   "id": "66249375",
   "metadata": {},
   "outputs": [
    {
     "data": {
      "text/plain": [
       "0      3823\n",
       "1      4490\n",
       "2      4337\n",
       "3      7432\n",
       "4      5039\n",
       "      ...  \n",
       "83     5257\n",
       "84     5965\n",
       "85     5203\n",
       "86     1062\n",
       "87    10548\n",
       "Name: desc_len, Length: 88, dtype: int64"
      ]
     },
     "execution_count": 11,
     "metadata": {},
     "output_type": "execute_result"
    }
   ],
   "source": [
    "df['desc_len'] = df['Job Description'].apply(lambda x: len(x))\n",
    "df['desc_len']"
   ]
  },
  {
   "cell_type": "code",
   "execution_count": 12,
   "id": "2f180638",
   "metadata": {},
   "outputs": [],
   "source": [
    "df['Company Name'] = df['Company Name'].apply(lambda x: x.replace('\\n' ,''))"
   ]
  },
  {
   "cell_type": "code",
   "execution_count": 13,
   "id": "5a50c9f9",
   "metadata": {},
   "outputs": [
    {
     "data": {
      "text/plain": [
       "0                  First Orion\n",
       "1                SoundThinking\n",
       "2                        INTEL\n",
       "3               HCA Healthcare\n",
       "4                          SAP\n",
       "                ...           \n",
       "83                  Salesforce\n",
       "84               GE Healthcare\n",
       "85                  CVS Health\n",
       "86                    Grainger\n",
       "87    National Security Agency\n",
       "Name: Company Name, Length: 88, dtype: object"
      ]
     },
     "execution_count": 13,
     "metadata": {},
     "output_type": "execute_result"
    }
   ],
   "source": [
    "df['Company Name']"
   ]
  },
  {
   "cell_type": "code",
   "execution_count": 14,
   "id": "3395bbc0",
   "metadata": {},
   "outputs": [
    {
     "data": {
      "text/html": [
       "<div>\n",
       "<style scoped>\n",
       "    .dataframe tbody tr th:only-of-type {\n",
       "        vertical-align: middle;\n",
       "    }\n",
       "\n",
       "    .dataframe tbody tr th {\n",
       "        vertical-align: top;\n",
       "    }\n",
       "\n",
       "    .dataframe thead th {\n",
       "        text-align: right;\n",
       "    }\n",
       "</style>\n",
       "<table border=\"1\" class=\"dataframe\">\n",
       "  <thead>\n",
       "    <tr style=\"text-align: right;\">\n",
       "      <th></th>\n",
       "      <th>Salary Estimate</th>\n",
       "      <th>Founded</th>\n",
       "      <th>Hourly</th>\n",
       "      <th>Age</th>\n",
       "      <th>python_yn</th>\n",
       "      <th>R_yn</th>\n",
       "      <th>spark_yn</th>\n",
       "      <th>aws_yn</th>\n",
       "      <th>excel</th>\n",
       "      <th>desc_len</th>\n",
       "    </tr>\n",
       "  </thead>\n",
       "  <tbody>\n",
       "    <tr>\n",
       "      <th>count</th>\n",
       "      <td>88.000000</td>\n",
       "      <td>88.000000</td>\n",
       "      <td>88.000000</td>\n",
       "      <td>88.000000</td>\n",
       "      <td>88.000000</td>\n",
       "      <td>88.0</td>\n",
       "      <td>88.000000</td>\n",
       "      <td>88.000000</td>\n",
       "      <td>88.000000</td>\n",
       "      <td>88.000000</td>\n",
       "    </tr>\n",
       "    <tr>\n",
       "      <th>mean</th>\n",
       "      <td>116814.230909</td>\n",
       "      <td>1966.852273</td>\n",
       "      <td>0.034091</td>\n",
       "      <td>56.147727</td>\n",
       "      <td>0.715909</td>\n",
       "      <td>0.0</td>\n",
       "      <td>0.238636</td>\n",
       "      <td>0.420455</td>\n",
       "      <td>0.465909</td>\n",
       "      <td>4911.125000</td>\n",
       "    </tr>\n",
       "    <tr>\n",
       "      <th>std</th>\n",
       "      <td>35943.816183</td>\n",
       "      <td>44.201612</td>\n",
       "      <td>0.182503</td>\n",
       "      <td>44.201612</td>\n",
       "      <td>0.453565</td>\n",
       "      <td>0.0</td>\n",
       "      <td>0.428693</td>\n",
       "      <td>0.496461</td>\n",
       "      <td>0.501695</td>\n",
       "      <td>2164.985858</td>\n",
       "    </tr>\n",
       "    <tr>\n",
       "      <th>min</th>\n",
       "      <td>24.250000</td>\n",
       "      <td>1860.000000</td>\n",
       "      <td>0.000000</td>\n",
       "      <td>3.000000</td>\n",
       "      <td>0.000000</td>\n",
       "      <td>0.0</td>\n",
       "      <td>0.000000</td>\n",
       "      <td>0.000000</td>\n",
       "      <td>0.000000</td>\n",
       "      <td>1045.000000</td>\n",
       "    </tr>\n",
       "    <tr>\n",
       "      <th>25%</th>\n",
       "      <td>99875.000000</td>\n",
       "      <td>1947.250000</td>\n",
       "      <td>0.000000</td>\n",
       "      <td>20.750000</td>\n",
       "      <td>0.000000</td>\n",
       "      <td>0.0</td>\n",
       "      <td>0.000000</td>\n",
       "      <td>0.000000</td>\n",
       "      <td>0.000000</td>\n",
       "      <td>3822.000000</td>\n",
       "    </tr>\n",
       "    <tr>\n",
       "      <th>50%</th>\n",
       "      <td>111498.000000</td>\n",
       "      <td>1970.000000</td>\n",
       "      <td>0.000000</td>\n",
       "      <td>53.000000</td>\n",
       "      <td>1.000000</td>\n",
       "      <td>0.0</td>\n",
       "      <td>0.000000</td>\n",
       "      <td>0.000000</td>\n",
       "      <td>0.000000</td>\n",
       "      <td>4819.500000</td>\n",
       "    </tr>\n",
       "    <tr>\n",
       "      <th>75%</th>\n",
       "      <td>135657.750000</td>\n",
       "      <td>2002.250000</td>\n",
       "      <td>0.000000</td>\n",
       "      <td>75.750000</td>\n",
       "      <td>1.000000</td>\n",
       "      <td>0.0</td>\n",
       "      <td>0.000000</td>\n",
       "      <td>1.000000</td>\n",
       "      <td>1.000000</td>\n",
       "      <td>5869.500000</td>\n",
       "    </tr>\n",
       "    <tr>\n",
       "      <th>max</th>\n",
       "      <td>225000.000000</td>\n",
       "      <td>2020.000000</td>\n",
       "      <td>1.000000</td>\n",
       "      <td>163.000000</td>\n",
       "      <td>1.000000</td>\n",
       "      <td>0.0</td>\n",
       "      <td>1.000000</td>\n",
       "      <td>1.000000</td>\n",
       "      <td>1.000000</td>\n",
       "      <td>10554.000000</td>\n",
       "    </tr>\n",
       "  </tbody>\n",
       "</table>\n",
       "</div>"
      ],
      "text/plain": [
       "       Salary Estimate      Founded     Hourly         Age  python_yn  R_yn  \\\n",
       "count        88.000000    88.000000  88.000000   88.000000  88.000000  88.0   \n",
       "mean     116814.230909  1966.852273   0.034091   56.147727   0.715909   0.0   \n",
       "std       35943.816183    44.201612   0.182503   44.201612   0.453565   0.0   \n",
       "min          24.250000  1860.000000   0.000000    3.000000   0.000000   0.0   \n",
       "25%       99875.000000  1947.250000   0.000000   20.750000   0.000000   0.0   \n",
       "50%      111498.000000  1970.000000   0.000000   53.000000   1.000000   0.0   \n",
       "75%      135657.750000  2002.250000   0.000000   75.750000   1.000000   0.0   \n",
       "max      225000.000000  2020.000000   1.000000  163.000000   1.000000   0.0   \n",
       "\n",
       "        spark_yn     aws_yn      excel      desc_len  \n",
       "count  88.000000  88.000000  88.000000     88.000000  \n",
       "mean    0.238636   0.420455   0.465909   4911.125000  \n",
       "std     0.428693   0.496461   0.501695   2164.985858  \n",
       "min     0.000000   0.000000   0.000000   1045.000000  \n",
       "25%     0.000000   0.000000   0.000000   3822.000000  \n",
       "50%     0.000000   0.000000   0.000000   4819.500000  \n",
       "75%     0.000000   1.000000   1.000000   5869.500000  \n",
       "max     1.000000   1.000000   1.000000  10554.000000  "
      ]
     },
     "execution_count": 14,
     "metadata": {},
     "output_type": "execute_result"
    }
   ],
   "source": [
    "df.describe()"
   ]
  },
  {
   "cell_type": "code",
   "execution_count": 15,
   "id": "a4d4a529",
   "metadata": {},
   "outputs": [
    {
     "data": {
      "text/plain": [
       "<AxesSubplot:>"
      ]
     },
     "execution_count": 15,
     "metadata": {},
     "output_type": "execute_result"
    },
    {
     "data": {
      "image/png": "[encoded data removed]",
      "text/plain": [
       "<Figure size 640x480 with 1 Axes>"
      ]
     },
     "metadata": {},
     "output_type": "display_data"
    }
   ],
   "source": [
    "df.Age.hist()"
   ]
  },
  {
   "cell_type": "code",
   "execution_count": 16,
   "id": "92e3edfe",
   "metadata": {},
   "outputs": [
    {
     "data": {
      "text/plain": [
       "<AxesSubplot:>"
      ]
     },
     "execution_count": 16,
     "metadata": {},
     "output_type": "execute_result"
    },
    {
     "data": {
      "image/png": "[encoded data removed]",
      "text/plain": [
       "<Figure size 640x480 with 1 Axes>"
      ]
     },
     "metadata": {},
     "output_type": "display_data"
    }
   ],
   "source": [
    "df['Salary Estimate'].hist()"
   ]
  },
  {
   "cell_type": "code",
   "execution_count": 17,
   "id": "1f8e1a40",
   "metadata": {},
   "outputs": [
    {
     "data": {
      "text/plain": [
       "<AxesSubplot:>"
      ]
     },
     "execution_count": 17,
     "metadata": {},
     "output_type": "execute_result"
    },
    {
     "data": {
      "image/png": "[encoded data removed]",
      "text/plain": [
       "<Figure size 640x480 with 1 Axes>"
      ]
     },
     "metadata": {},
     "output_type": "display_data"
    }
   ],
   "source": [
    "df.boxplot(column = ['Age', 'Salary Estimate', 'desc_len'])"
   ]
  },
  {
   "cell_type": "code",
   "execution_count": 18,
   "id": "6182ebc6",
   "metadata": {},
   "outputs": [
    {
     "data": {
      "text/plain": [
       "<bound method DataFrame.corr of       Age  Salary Estimate  desc_len\n",
       "0    15.0          98847.0      3823\n",
       "1    27.0          85000.0      4490\n",
       "2    55.0         132410.0      4337\n",
       "3    55.0          84636.0      7432\n",
       "4    51.0         138198.0      5039\n",
       "..    ...              ...       ...\n",
       "83   24.0         181889.0      5257\n",
       "84  131.0         155000.0      5965\n",
       "85   60.0         105000.0      5203\n",
       "86   96.0         103649.0      1062\n",
       "87   61.0         130623.0     10548\n",
       "\n",
       "[88 rows x 3 columns]>"
      ]
     },
     "execution_count": 18,
     "metadata": {},
     "output_type": "execute_result"
    }
   ],
   "source": [
    "df[['Age', 'Salary Estimate', 'desc_len']].corr()"
   ]
  },
  {
   "cell_type": "code",
   "execution_count": 24,
   "id": "dce57fc5",
   "metadata": {},
   "outputs": [
    {
     "data": {
      "text/plain": [
       "<AxesSubplot:>"
      ]
     },
     "execution_count": 24,
     "metadata": {},
     "output_type": "execute_result"
    },
    {
     "data": {
      "image/png": "[encoded data removed]",
      "text/plain": [
       "<Figure size 640x480 with 2 Axes>"
      ]
     },
     "metadata": {},
     "output_type": "display_data"
    }
   ],
   "source": [
    "cmap = sns.diverging_palette(220, 10, as_cmap=True)\n",
    "sns.heatmap(df[['Age', 'Salary Estimate', 'desc_len']].corr(), vmax = 3, center = 0, cmap = cmap, square = True, linewidths = .5, cbar_kws = {\"shrink\": .5})"
   ]
  },
  {
   "cell_type": "code",
   "execution_count": null,
   "id": "15a68ef4",
   "metadata": {},
   "outputs": [],
   "source": []
  }
 ],
 "metadata": {
  "kernelspec": {
   "display_name": "Python 3 (ipykernel)",
   "language": "python",
   "name": "python3"
  },
  "language_info": {
   "codemirror_mode": {
    "name": "ipython",
    "version": 3
   },
   "file_extension": ".py",
   "mimetype": "text/x-python",
   "name": "python",
   "nbconvert_exporter": "python",
   "pygments_lexer": "ipython3",
   "version": "3.10.2"
  }
 },
 "nbformat": 4,
 "nbformat_minor": 5
}
